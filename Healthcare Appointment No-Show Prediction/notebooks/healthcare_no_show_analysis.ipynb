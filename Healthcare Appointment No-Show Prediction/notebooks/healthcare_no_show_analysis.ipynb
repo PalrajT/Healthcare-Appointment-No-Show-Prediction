{
 "cells": [
  {
   "cell_type": "markdown",
   "metadata": {},
   "source": [
    "# Healthcare Appointment No-Show Prediction\n",
    "\n",
    "This notebook performs exploratory data analysis and builds a machine learning model to predict patient no-shows for healthcare appointments."
   ]
  },
  {
   "cell_type": "markdown",
   "metadata": {},
   "source": [
    "## 1. Import Libraries"
   ]
  },
  {
   "cell_type": "code",
   "execution_count": null,
   "metadata": {},
   "source": [
    "import pandas as pd\n",
    "import numpy as np\n",
    "import matplotlib.pyplot as plt\n",
    "import seaborn as sns\n",
    "from sklearn.model_selection import train_test_split\n",
    "from sklearn.preprocessing import StandardScaler, OneHotEncoder\n",
    "from sklearn.compose import ColumnTransformer\n",
    "from sklearn.pipeline import Pipeline\n",
    "from sklearn.tree import DecisionTreeClassifier\n",
    "from sklearn.metrics import accuracy_score, precision_score, recall_score, confusion_matrix, classification_report\n",
    "import warnings\n",
    "warnings.filterwarnings('ignore')\n",
    "\n",
    "# Set display options for better readability\n",
    "pd.set_option('display.max_columns', None)\n",
    "pd.set_option('display.width', 1000)"
   ]
  },
  {
   "cell_type": "markdown",
   "metadata": {},
   "source": [
    "## 2. Load and Preprocess Data"
   ]
  },
  {
   "cell_type": "code",
   "execution_count": null,
   "metadata": {},
   "source": [
    "# For demonstration purposes, we'll create a sample dataset\n",
    "np.random.seed(42)\n",
    "n_samples = 1000\n",
    "\n",
    "# Generate sample data\n",
    "ages = np.random.randint(0, 100, n_samples)\n",
    "genders = np.random.choice(['M', 'F'], n_samples)\n",
    "scheduled_dates = pd.date_range(start='2022-01-01', periods=n_samples, freq='D')\n",
    "appointment_dates = scheduled_dates + pd.to_timedelta(np.random.randint(1, 30, n_samples), unit='D')\n",
    "sms_received = np.random.choice([0, 1], n_samples, p=[0.3, 0.7])\n",
    "neighborhoods = np.random.choice(['Downtown', 'Uptown', 'Midtown', 'Suburb', 'Rural'], n_samples)\n",
    "no_show = np.random.choice(['No', 'Yes'], n_samples, p=[0.8, 0.2])  # 20% no-show rate\n",
    "\n",
    "# Create dataframe\n",
    "df = pd.DataFrame({\n",
    "    'PatientID': range(1, n_samples + 1),\n",
    "    'Age': ages,\n",
    "    'Gender': genders,\n",
    "    'ScheduledDay': scheduled_dates,\n",
    "    'AppointmentDay': appointment_dates,\n",
    "    'SMS_received': sms_received,\n",
    "    'Neighbourhood': neighborhoods,\n",
    "    'Hypertension': np.random.choice([0, 1], n_samples, p=[0.7, 0.3]),\n",
    "    'Diabetes': np.random.choice([0, 1], n_samples, p=[0.8, 0.2]),\n",
    "    'Alcoholism': np.random.choice([0, 1], n_samples, p=[0.9, 0.1]),\n",
    "    'Handicap': np.random.choice([0, 1, 2, 3, 4], n_samples, p=[0.8, 0.1, 0.05, 0.03, 0.02]),\n",
    "    'No-show': no_show\n",
    "})\n",
    "\n",
    "# Display the first few rows\n",
    "df.head()"
   ]
  },
  {
   "cell_type": "markdown",
   "metadata": {},
   "source": [
    "### Data Cleaning and Feature Engineering"
   ]
  },
  {
   "cell_type": "code",
   "execution_count": null,
   "metadata": {},
   "source": [
    "# Convert date columns to datetime\n",
    "df['ScheduledDay'] = pd.to_datetime(df['ScheduledDay'])\n",
    "df['AppointmentDay'] = pd.to_datetime(df['AppointmentDay'])\n",
    "\n",
    "# Calculate lead time (days between scheduling and appointment)\n",
    "df['LeadTime'] = (df['AppointmentDay'] - df['ScheduledDay']).dt.days\n",
    "\n",
    "# Extract day of week\n",
    "df['AppointmentDayOfWeek'] = df['AppointmentDay'].dt.day_name()\n",
    "\n",
    "# Convert target variable to binary\n",
    "df['No-show'] = df['No-show'].map({'No': 0, 'Yes': 1})\n",
    "\n",
    "# Handle missing values\n",
    "df = df.fillna({\n",
    "    'Age': df['Age'].median(),\n",
    "    'Gender': df['Gender'].mode()[0],\n",
    "    'Neighbourhood': df['Neighbourhood'].mode()[0],\n",
    "    'SMS_received': 0\n",
    "})\n",
    "\n",
    "# Remove any remaining rows with missing values\n",
    "df = df.dropna()\n",
    "\n",
    "# Display the processed data\n",
    "df.head()"
   ]
  },
  {
   "cell_type": "markdown",
   "metadata": {},
   "source": [
    "## 3. Exploratory Data Analysis"
   ]
  },
  {
   "cell_type": "code",
   "execution_count": null,
   "metadata": {},
   "source": [
    "# Basic statistics\n",
    "print(\"Dataset shape:\", df.shape)\n",
    "print(\"\\nBasic statistics:\")\n",
    "df.describe()\n"
   ]
  },
  {
   "cell_type": "code",
   "execution_count": null,
   "metadata": {},
   "source": [
    "# Check target variable distribution\n",
    "no_show_counts = df['No-show'].value_counts(normalize=True) * 100\n",
    "print(f\"No-show distribution: {no_show_counts[1]:.2f}% no-shows, {no_show_counts[0]:.2f}% shows\")\n",
    "\n",
    "plt.figure(figsize=(8, 6))\n",
    "sns.countplot(x='No-show', data=df)\n",
    "plt.title('Distribution of No-shows')\n",
    "plt.show()"
   ]
  },
  {
   "cell_type": "markdown",
   "metadata": {},
   "source": [
    "### Age Distribution by No-show Status"
   ]
  },
  {
   "cell_type": "code",
   "execution_count": null,
   "metadata": {},
   "source": [
    "plt.figure(figsize=(10, 6))\n",
    "sns.boxplot(x='No-show', y='Age', data=df)\n",
    "plt.title('Age Distribution by No-show Status')\n",
    "plt.show()\n",
    "\n",
    "# Age groups analysis\n",
    "df['AgeGroup'] = pd.cut(df['Age'], bins=[0, 18, 35, 50, 65, 100], labels=['0-18', '19-35', '36-50', '51-65', '65+'])\n",
    "age_no_show = pd.crosstab(df['AgeGroup'], df['No-show'], normalize='index') * 100\n",
    "\n",
    "plt.figure(figsize=(10, 6))\n",
    "age_no_show[1].plot(kind='bar')\n",
    "plt.title('No-show Rate by Age Group')\n",
    "plt.ylabel('No-show Rate (%)')\n",
    "plt.show()"
   ]
  },
  {
   "cell_type": "markdown",
   "metadata": {},
   "source": [
    "### Lead Time Analysis"
   ]
  },
  {
   "cell_type": "code",
   "execution_count": null,
   "metadata": {},
   "source": [
    "plt.figure(figsize=(10, 6))\n",
    "sns.histplot(data=df, x='LeadTime', hue='No-show', bins=30, kde=True)\n",
    "plt.title('Lead Time Distribution by No-show Status')\n",
    "plt.show()\n",
    "\n",
    "# Lead time groups analysis\n",
    "df['LeadTimeGroup'] = pd.cut(df['LeadTime'], bins=[0, 7, 14, 30, 100], labels=['0-7 days', '8-14 days', '15-30 days', '30+ days'])\n",
    "lead_time_no_show = pd.crosstab(df['LeadTimeGroup'], df['No-show'], normalize='index') * 100\n",
    "\n",
    "plt.figure(figsize=(10, 6))\n",
    "lead_time_no_show[1].plot(kind='bar')\n",
    "plt.title('No-show Rate by Lead Time Group')\n",
    "plt.ylabel('No-show Rate (%)')\n",
    "plt.show()"
   ]
  },
  {
   "cell_type": "markdown",
   "metadata": {},
   "source": [
    "### Day of Week Analysis"
   ]
  },
  {
   "cell_type": "code",
   "execution_count": null,
   "metadata": {},
   "source": [
    "plt.figure(figsize=(12, 6))\n",
    "day_order = ['Monday', 'Tuesday', 'Wednesday', 'Thursday', 'Friday', 'Saturday', 'Sunday']\n",
    "day_no_show = pd.crosstab(df['AppointmentDayOfWeek'], df['No-show'], normalize='index') * 100\n",
    "day_no_show = day_no_show.reindex(day_order)\n",
    "day_no_show[1].plot(kind='bar')\n",
    "plt.title('No-show Rate by Day of Week')\n",
    "plt.ylabel('No-show Rate (%)')\n",
    "plt.show()"
   ]
  },
  {
   "cell_type": "markdown",
   "metadata": {},
   "source": [
    "### SMS Received Analysis"
   ]
  },
  {
   "cell_type": "code",
   "execution_count": null,
   "metadata": {},
   "source": [
    "plt.figure(figsize=(10, 6))\n",
    "sms_no_show = pd.crosstab(df['SMS_received'], df['No-show'], normalize='index') * 100\n",
    "sms_no_show[1].plot(kind='bar')\n",
    "plt.title('No-show Rate by SMS Received')\n",
    "plt.xlabel('SMS Received (1=Yes, 0=No)')\n",
    "plt.ylabel('No-show Rate (%)')\n",
    "plt.show()"
   ]
  },
  {
   "cell_type": "markdown",
   "metadata": {},
   "source": [
    "### Health Conditions Analysis"
   ]
  },
  {
   "cell_type": "code",
   "execution_count": null,
   "metadata": {},
   "source": [
    "# Create a figure with subplots\n",
    "fig, axes = plt.subplots(1, 3, figsize=(18, 6))\n",
    "\n",
    "# Hypertension\n",
    "hypertension_no_show = pd.crosstab(df['Hypertension'], df['No-show'], normalize='index') * 100\n",
    "hypertension_no_show[1].plot(kind='bar', ax=axes[0])\n",
    "axes[0].set_title('No-show Rate by Hypertension')\n",
    "axes[0].set_xlabel('Hypertension (1=Yes, 0=No)')\n",
    "axes[0].set_ylabel('No-show Rate (%)')\n",
    "\n",
    "# Diabetes\n",
    "diabetes_no_show = pd.crosstab(df['Diabetes'], df['No-show'], normalize='index') * 100\n",
    "diabetes_no_show[1].plot(kind='bar', ax=axes[1])\n",
    "axes[1].set_title('No-show Rate by Diabetes')\n",
    "axes[1].set_xlabel('Diabetes (1=Yes, 0=No)')\n",
    "axes[1].set_ylabel('No-show Rate (%)')\n",
    "\n",
    "# Alcoholism\n",
    "alcoholism_no_show = pd.crosstab(df['Alcoholism'], df['No-show'], normalize='index') * 100\n",
    "alcoholism_no_show[1].plot(kind='bar', ax=axes[2])\n",
    "axes[2].set_title('No-show Rate by Alcoholism')\n",
    "axes[2].set_xlabel('Alcoholism (1=Yes, 0=No)')\n",
    "axes[2].set_ylabel('No-show Rate (%)')\n",
    "\n",
    "plt.tight_layout()\n",
    "plt.show()"
   ]
  },
  {
   "cell_type": "markdown",
   "metadata": {},
   "source": [
    "## 4. Model Building"
   ]
  },
  {
   "cell_type": "code",
   "execution_count": null,
   "metadata": {},
   "source": [
    "# Prepare features and target\n",
    "X = df.drop(['No-show', 'PatientID', 'ScheduledDay', 'AppointmentDay', 'AgeGroup', 'LeadTimeGroup'], axis=1)\n",
    "y = df['No-show']\n",
    "\n",
    "# Handle categorical features\n",
    "categorical_features = ['Gender', 'Neighbourhood', 'AppointmentDayOfWeek']\n",
    "numerical_features = ['Age', 'LeadTime', 'SMS_received', 'Hypertension', 'Diabetes', 'Alcoholism', 'Handicap']\n",
    "\n",
    "# Create preprocessing pipeline\n",
    "preprocessor = ColumnTransformer(\n",
    "    transformers=[\n",
    "        ('num', StandardScaler(), numerical_features),\n",
    "        ('cat', OneHotEncoder(handle_unknown='ignore'), categorical_features)\n",
    "    ])\n",
    "\n",
    "# Split data\n",
    "X_train, X_test, y_train, y_test = train_test_split(X, y, test_size=0.3, random_state=42)"
   ]
  },
  {
   "cell_type": "markdown",
   "metadata": {},
   "source": [
    "### Decision Tree Model"
   ]
  },
  {
   "cell_type": "code",
   "execution_count": null,
   "metadata": {},
   "source": [
    "# Create and train model pipeline\n",
    "dt_pipeline = Pipeline([\n",
    "    ('preprocessor', preprocessor),\n",
    "    ('classifier', DecisionTreeClassifier(random_state=42))\n",
    "])\n",
    "dt_pipeline.fit(X_train, y_train)\n",
    "\n",
    "# Make predictions\n",
    "y_pred = dt_pipeline.predict(X_test)\n",
    "\n",
    "# Evaluate model\n",
    "accuracy = accuracy_score(y_test, y_pred)\n",
    "precision = precision_score(y_test, y_pred)\n",
    "recall = recall_score(y_test, y_pred)\n",
    "conf_matrix = confusion_matrix(y_test, y_pred)\n",
    "\n",
    "print(f\"Model Evaluation:\")\n",
    "print(f\"Accuracy: {accuracy:.4f}\")\n",
    "print(f\"Precision: {precision:.4f}\")\n",
    "print(f\"Recall: {recall:.4f}\")\n",
    "print(\"\\nConfusion Matrix:\")\n",
    "print(conf_matrix)\n",
    "print(\"\\nClassification Report:\")\n",
    "print(classification_report(y_test, y_pred))"
   ]
  },
  {
   "cell_type": "code",
   "execution_count": null,
   "metadata": {},
   "source": [
    "# Plot confusion matrix\n",
    "plt.figure(figsize=(8, 6))\n",
    "sns.heatmap(conf_matrix, annot=True, fmt='d', cmap='Blues',\n",
    "            xticklabels=['Show', 'No-show'],\n",
    "            yticklabels=['Show', 'No-show'])\n",
    "plt.xlabel('Predicted')\n",
    "plt.ylabel('Actual')\n",
    "plt.title('Confusion Matrix')\n",
    "plt.show()"
   ]
  },
  {
   "cell_type": "markdown",
   "metadata": {},
   "source": [
    "### Feature Importance"
   ]
  },
  {
   "cell_type": "code",
   "execution_count": null,
   "metadata": {},
   "source": [
    "# Get feature names after preprocessing\n",
    "feature_names = []\n",
    "for name, trans, cols in preprocessor.transformers_:\n",
    "    if name == 'num':\n",
    "        feature_names.extend(cols)\n",
    "    elif name == 'cat':\n",
    "        for col in cols:\n",
    "            feature_names.extend([f\"{col}_{cat}\" for cat in trans.categories_[0]])\n",
    "\n",
    "# Get feature importances\n",
    "importances = dt_pipeline.named_steps['classifier'].feature_importances_\n",
    "\n",
    "# Plot top 10 features\n",
    "plt.figure(figsize=(12, 8))\n",
    "indices = np.argsort(importances)[-10:]\n",
    "plt.barh(range(len(indices)), importances[indices])\n",
    "plt.yticks(range(len(indices)), [feature_names[i] for i in indices])\n",
    "plt.xlabel('Feature Importance')\n",
    "plt.title('Top 10 Feature Importances')\n",
    "plt.show()"
   ]
  },
  {
   "cell_type": "markdown",
   "metadata": {},
   "source": [
    "## 5. Optimization Suggestions"
   ]
  },
  {
   "cell_type": "code",
   "execution_count": null,
   "metadata": {},
   "source": [
    "# Calculate no-show rates by different factors\n",
    "day_no_show = pd.crosstab(df['AppointmentDayOfWeek'], df['No-show'], normalize='index') * 100\n",
    "day_order = ['Monday', 'Tuesday', 'Wednesday', 'Thursday', 'Friday', 'Saturday', 'Sunday']\n",
    "day_no_show = day_no_show.reindex(day_order)\n",
    "\n",
    "high_risk_days = day_no_show[1].nlargest(3).index.tolist()\n",
    "low_risk_days = day_no_show[1].nsmallest(3).index.tolist()\n",
    "\n",
    "# SMS effectiveness\n",
    "sms_no_show = pd.crosstab(df['SMS_received'], df['No-show'], normalize='index') * 100\n",
    "sms_effectiveness = sms_no_show[1][0] - sms_no_show[1][1] if 1 in sms_no_show[1].index else 0\n",
    "\n",
    "# Lead time analysis\n",
    "lead_time_groups = pd.cut(df['LeadTime'], bins=[0, 7, 14, 30, 100], labels=['0-7 days', '8-14 days', '15-30 days', '30+ days'])\n",
    "lead_time_no_show = pd.crosstab(lead_time_groups, df['No-show'], normalize='index') * 100\n",
    "\n",
    "# Print suggestions\n",
    "print(\"Optimization Suggestions:\")\n",
    "print(f\"1. Schedule Optimization:\")\n",
    "print(f\"   - High-risk days for no-shows: {', '.join(high_risk_days)}\")\n",
    "print(f\"   - Consider overbooking by {precision*100:.1f}% on these days\")\n",
    "print(f\"   - Low-risk days: {', '.join(low_risk_days)}\")\n",
    "\n",
    "print(f\"\\n2. Patient Communication:\")\n",
    "if sms_effectiveness > 0:\n",
    "    print(f\"   - SMS reminders reduce no-show rate by approximately {sms_effectiveness:.1f}%\")\n",
    "    print(f\"   - Implement automated SMS reminders for all appointments\")\n",
    "    print(f\"   - Consider sending multiple reminders (3 days before and day before)\")\n",
    "\n",
    "print(f\"\\n3. Appointment Lead Time Management:\")\n",
    "print(f\"   - Optimal appointment lead time: {lead_time_no_show[1].idxmin()} (lowest no-show rate)\")\n",
    "print(f\"   - Try to schedule appointments within this timeframe when possible\")\n",
    "\n",
    "print(f\"\\n4. Targeted Interventions:\")\n",
    "print(f\"   - Model accuracy: {accuracy*100:.1f}%\")\n",
    "print(f\"   - Use the prediction model to identify high-risk patients\")\n",
    "print(f\"   - Implement phone call confirmations for patients with >50% no-show probability\")"
   ]
  }
 ],
 "metadata": {
  "kernelspec": {
   "display_name": "Python 3",
   "language": "python",
   "name": "python3"
  },
  "language_info": {
   "codemirror_mode": {
    "name": "ipython",
    "version": 3
   },
   "file_extension": ".py",
   "mimetype": "text/x-python",
   "name": "python",
   "nbconvert_exporter": "python",
   "pygments_lexer": "ipython3",
   "version": "3.8.10"
  }
 },
 "nbformat": 4,
 "nbformat_minor": 4
}